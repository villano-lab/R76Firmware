{
 "cells": [
  {
   "cell_type": "code",
   "execution_count": 1,
   "id": "f88eafa4-ded1-45d8-ae74-19153a90706b",
   "metadata": {},
   "outputs": [],
   "source": [
    "#Setup\n",
    "\n",
    "import numpy as np\n",
    "import pandas as pd\n",
    "import matplotlib.pyplot as plt\n",
    "import glob, pickle, joblib, os, uproot\n",
    "from tqdm import tqdm_notebook\n",
    "\n",
    "import rawio.IO as io\n",
    "from scdmsPyTools.Traces.Filtering import *\n",
    "from scdmsPyTools.Traces.Noise import *\n",
    "from scdmsPyTools.TES.Templates import *\n",
    "from scdmsPyTools.Traces.Stats import *\n",
    "#from scdmsPyTools.BatTools.IO import *\n",
    "rawdir = \"/data/chocula/k100/midasraw/byseries\"\n",
    "procdir = \"/data/midas/proc\""
   ]
  },
  {
   "cell_type": "code",
   "execution_count": 2,
   "id": "b8f511e4-af8f-4d32-8618-963d992a591a",
   "metadata": {},
   "outputs": [
    {
     "name": "stdout",
     "output_type": "stream",
     "text": [
      "The file is: /data/chocula/k100/midasraw/byseries/07240712_1252/07240712_1252_F0001.mid.gz\n",
      "\n",
      "Opened raw midas file: /data/chocula/k100/midasraw/byseries/07240712_1252/07240712_1252_F0001.mid.gz\n",
      "The file is: /data/chocula/k100/midasraw/byseries/07240712_1252/07240712_1252_F0002.mid.gz\n",
      "\n",
      "Opened raw midas file: /data/chocula/k100/midasraw/byseries/07240712_1252/07240712_1252_F0002.mid.gz\n",
      "The file is: /data/chocula/k100/midasraw/byseries/07240712_1252/07240712_1252_F0003.mid.gz\n",
      "\n",
      "Opened raw midas file: /data/chocula/k100/midasraw/byseries/07240712_1252/07240712_1252_F0003.mid.gz\n",
      "The file is: /data/chocula/k100/midasraw/byseries/07240712_1252/07240712_1252_F0004.mid.gz\n",
      "\n",
      "Opened raw midas file: /data/chocula/k100/midasraw/byseries/07240712_1252/07240712_1252_F0004.mid.gz\n",
      "The file is: /data/chocula/k100/midasraw/byseries/07240712_1252/07240712_1252_F0005.mid.gz\n",
      "\n",
      "Opened raw midas file: /data/chocula/k100/midasraw/byseries/07240712_1252/07240712_1252_F0005.mid.gz\n",
      "The file is: /data/chocula/k100/midasraw/byseries/07240712_1252/07240712_1252_F0006.mid.gz\n",
      "\n",
      "Opened raw midas file: /data/chocula/k100/midasraw/byseries/07240712_1252/07240712_1252_F0006.mid.gz\n",
      "The file is: /data/chocula/k100/midasraw/byseries/07240712_1252/07240712_1252_F0007.mid.gz\n",
      "\n",
      "Opened raw midas file: /data/chocula/k100/midasraw/byseries/07240712_1252/07240712_1252_F0007.mid.gz\n",
      "The file is: /data/chocula/k100/midasraw/byseries/07240712_1252/07240712_1252_F0008.mid.gz\n",
      "\n",
      "Opened raw midas file: /data/chocula/k100/midasraw/byseries/07240712_1252/07240712_1252_F0008.mid.gz\n",
      "The file is: /data/chocula/k100/midasraw/byseries/07240712_1252/07240712_1252_F0009.mid.gz\n",
      "\n",
      "Opened raw midas file: /data/chocula/k100/midasraw/byseries/07240712_1252/07240712_1252_F0009.mid.gz\n",
      "The file is: /data/chocula/k100/midasraw/byseries/07240712_1252/07240712_1252_F0010.mid.gz\n",
      "\n",
      "Opened raw midas file: /data/chocula/k100/midasraw/byseries/07240712_1252/07240712_1252_F0010.mid.gz\n",
      "The file is: /data/chocula/k100/midasraw/byseries/07240712_1252/07240712_1252_F0011.mid.gz\n",
      "\n",
      "Opened raw midas file: /data/chocula/k100/midasraw/byseries/07240712_1252/07240712_1252_F0011.mid.gz\n",
      "The file is: /data/chocula/k100/midasraw/byseries/07240712_1252/07240712_1252_F0012.mid.gz\n",
      "\n",
      "Opened raw midas file: /data/chocula/k100/midasraw/byseries/07240712_1252/07240712_1252_F0012.mid.gz\n",
      "The file is: /data/chocula/k100/midasraw/byseries/07240712_1252/07240712_1252_F0013.mid.gz\n",
      "\n",
      "Opened raw midas file: /data/chocula/k100/midasraw/byseries/07240712_1252/07240712_1252_F0013.mid.gz\n",
      "The file is: /data/chocula/k100/midasraw/byseries/07240712_1252/07240712_1252_F0014.mid.gz\n",
      "\n",
      "Opened raw midas file: /data/chocula/k100/midasraw/byseries/07240712_1252/07240712_1252_F0014.mid.gz\n",
      "The file is: /data/chocula/k100/midasraw/byseries/07240712_1252/07240712_1252_F0015.mid.gz\n",
      "\n",
      "Opened raw midas file: /data/chocula/k100/midasraw/byseries/07240712_1252/07240712_1252_F0015.mid.gz\n",
      "The file is: /data/chocula/k100/midasraw/byseries/07240712_1252/07240712_1252_F0016.mid.gz\n",
      "\n",
      "Opened raw midas file: /data/chocula/k100/midasraw/byseries/07240712_1252/07240712_1252_F0016.mid.gz\n",
      "The file is: /data/chocula/k100/midasraw/byseries/07240712_1252/07240712_1252_F0017.mid.gz\n",
      "\n",
      "Opened raw midas file: /data/chocula/k100/midasraw/byseries/07240712_1252/07240712_1252_F0017.mid.gz\n"
     ]
    }
   ],
   "source": [
    "#Select a file.\n",
    "series='07240712_1252'\n",
    "csv = [x[0] for x in pd.read_csv('48855.txt',dtype=str,comment='#').values.tolist()]\n",
    "#txt = [x[0] for x in pd.read_csv('~/git/R76Firmware/DCRC_Compatibility/towertest.txt',dtype=str).values.tolist()]\n",
    "\n",
    "#More setup, dependent on series number.\n",
    "procseries=series\n",
    "filepath = rawdir+series\n",
    "\n",
    "events = io.getRawEvents(rawdir,series)\n",
    "try:\n",
    "    stamps = [f'{QI[0]:04X}' for QI in events['Z4']['QI'][events['Z4']['PA'].keys()[0][0]]]\n",
    "except KeyError:\n",
    "    print(\"no events found. keys:\",events.keys(),len(events))\n",
    "\n",
    "del events"
   ]
  },
  {
   "cell_type": "raw",
   "id": "0a260be1-11a7-456c-bc7f-97594dd24b3d",
   "metadata": {},
   "source": [
    "print(csv['timestamp'],[f'{i:x}' for i in stamps])\n",
    "print(type(csv['timestamp'][0]),type(f'{100:x}'))\n",
    "print('1337' in csv['timestamp'].values)"
   ]
  },
  {
   "cell_type": "raw",
   "id": "0019389a-69f0-4d34-936d-5ed9a3850fdd",
   "metadata": {},
   "source": [
    "#for x in stamps: \n",
    "#    if x != 4919: print(hex(x))\n",
    "print(set([hex(x) for x in stamps if x!= 4919]))\n",
    "print(len([x for x in stamps if x != 4919])/len(stamps))\n",
    "\n",
    "print(csv['timestamp'][csv['timestamp'] != 1337])\n",
    "print(len(csv) - len(stamps))"
   ]
  },
  {
   "cell_type": "code",
   "execution_count": 3,
   "id": "6a096a0f-26b8-4e52-955f-bb4457c562a4",
   "metadata": {
    "scrolled": true
   },
   "outputs": [
    {
     "name": "stdout",
     "output_type": "stream",
     "text": [
      "['8001', '8001', '8001', '8001', '8001', '8001', '8001', '8001', '8001', '8001', '8001', '8001', '8001', '8001', '0000', '0001', '0002', '0003', '0004', '0005', '0006', '0007', '0008', '0009', '0010', '0011', '0012', '0013', '0014', '0015', '0016', '0017', '0018', '0019', '0020', '0021', '0022', '0023', '0024', '0025', '0026', '0027', '0028', '0029', '0030', '0031', '0032', '0033', '0034', '0035', '0036', '0037', '0038', '0039', '0040', '0041', '0042'] \n",
      "====\n",
      "\n"
     ]
    }
   ],
   "source": [
    "print(stamps,\"\\n====\\n\")#,csv,len(stamps),len(csv))"
   ]
  },
  {
   "cell_type": "raw",
   "id": "3771dee9-b7ba-4728-847d-85192b7d35f1",
   "metadata": {},
   "source": [
    "print(hex(len(stamps)),len(stamps)/385) #for when we're sending file of specific len on loopback\n",
    "\n",
    "#For when we're sending data with steady differences\n",
    "#for x in range(385): if hex(x)[2:] not in stamps: print(hex(x)[2:])\n",
    "print(np.diff([int(stamp,16) for stamp in stamps]))\n",
    "\n",
    "print(set([x for x in csv if x not in txt]))\n",
    "print(\"\\n==================\\n\")\n",
    "print(set([x for x in txt if x not in csv]))"
   ]
  },
  {
   "cell_type": "raw",
   "id": "590f824b-c5b9-4fa6-919f-00e57ca6d5da",
   "metadata": {},
   "source": [
    "txt_exclusives = [x for x in txt if x not in csv];\n",
    "csv_exclusives = [x for x in csv if x not in txt]; shared = [x for x in csv if x in txt]\n",
    "\n",
    "print(len(csv),len(txt),len(csv_exclusives),len(txt_exclusives))\n",
    "print(txt[txt.index(shared[0]):txt.index(shared[-1])+1])\n",
    "print(csv[csv.index(shared[0]):csv.index(shared[-1])+1])\n",
    "print(len(txt[txt.index(shared[0]):txt.index(shared[-1])]) - len(csv[csv.index(shared[0]):csv.index(shared[-1])]))"
   ]
  },
  {
   "cell_type": "code",
   "execution_count": 4,
   "id": "8bc596ff-7d96-4ed6-97dd-f72f6eb762b3",
   "metadata": {},
   "outputs": [
    {
     "name": "stdout",
     "output_type": "stream",
     "text": [
      "[]\n"
     ]
    },
    {
     "ename": "IndexError",
     "evalue": "list index out of range",
     "output_type": "error",
     "traceback": [
      "\u001b[0;31m---------------------------------------------------------------------------\u001b[0m",
      "\u001b[0;31mIndexError\u001b[0m                                Traceback (most recent call last)",
      "Cell \u001b[0;32mIn[4], line 3\u001b[0m\n\u001b[1;32m      1\u001b[0m shared \u001b[38;5;241m=\u001b[39m [x \u001b[38;5;28;01mfor\u001b[39;00m x \u001b[38;5;129;01min\u001b[39;00m csv \u001b[38;5;28;01mif\u001b[39;00m x \u001b[38;5;129;01min\u001b[39;00m stamps]\n\u001b[1;32m      2\u001b[0m \u001b[38;5;28mprint\u001b[39m(shared)\n\u001b[0;32m----> 3\u001b[0m csvshared \u001b[38;5;241m=\u001b[39m csv[csv\u001b[38;5;241m.\u001b[39mindex(\u001b[43mshared\u001b[49m\u001b[43m[\u001b[49m\u001b[38;5;241;43m0\u001b[39;49m\u001b[43m]\u001b[49m):]\u001b[38;5;66;03m#csv.index(shared[-1])+1]\u001b[39;00m\n\u001b[1;32m      4\u001b[0m stampshared \u001b[38;5;241m=\u001b[39m stamps[stamps\u001b[38;5;241m.\u001b[39mindex(shared[\u001b[38;5;241m0\u001b[39m]):]\u001b[38;5;66;03m#stamps.index(shared[-1])+1]\u001b[39;00m\n\u001b[1;32m      5\u001b[0m \u001b[38;5;66;03m#stampshared = [x for x in stampshared if x != '014A']\u001b[39;00m\n",
      "\u001b[0;31mIndexError\u001b[0m: list index out of range"
     ]
    }
   ],
   "source": [
    "shared = [x for x in csv if x in stamps]\n",
    "print(shared)\n",
    "csvshared = csv[csv.index(shared[0]):]#csv.index(shared[-1])+1]\n",
    "stampshared = stamps[stamps.index(shared[0]):]#stamps.index(shared[-1])+1]\n",
    "#stampshared = [x for x in stampshared if x != '014A']"
   ]
  },
  {
   "cell_type": "code",
   "execution_count": null,
   "id": "35704114-3a86-482c-afea-367e0566f1d8",
   "metadata": {},
   "outputs": [],
   "source": [
    "print(\"Packet:\",csvshared)\n",
    "print(\"Midas:\",stampshared)\n",
    "print(\"====\")\n",
    "print(len(csvshared)-len(stampshared))\n",
    "print(len(stamps),len(stampshared))"
   ]
  },
  {
   "cell_type": "code",
   "execution_count": null,
   "id": "39987077-f319-47ec-a673-d72c9d6d66f4",
   "metadata": {},
   "outputs": [],
   "source": [
    "print(\"Midas:\",[stamps.index(x) for x in shared])\n",
    "print(\"Packet:\",[csv.index(x) for x in shared])"
   ]
  },
  {
   "cell_type": "raw",
   "id": "2d48330a-5054-43f7-95cf-313e8bc82625",
   "metadata": {},
   "source": [
    "#Usually this doesn't run due to indexing\n",
    "maxdiff = 0\n",
    "for i,x in enumerate(csvshared):\n",
    "    if abs(int(stampshared[i],16) - int(x,16)) > maxdiff:\n",
    "        maxdiff = abs(int(stampshared[i],16) - int(x,16))\n",
    "print(maxdiff)"
   ]
  },
  {
   "cell_type": "code",
   "execution_count": null,
   "id": "44575d85-7835-4803-b390-1ee7f3575338",
   "metadata": {},
   "outputs": [],
   "source": [
    "for x in list(zip(csvshared,stampshared)): \n",
    "    if(x[0][:2] == x[1][:2]): print(x,\"*\")\n",
    "    else: print(x)\n",
    "print(shared)"
   ]
  },
  {
   "cell_type": "code",
   "execution_count": null,
   "id": "1fa6cdf9-a0b8-4068-8ab9-9d997ef5f16f",
   "metadata": {},
   "outputs": [],
   "source": [
    "print(len(stamps)-len(set(stamps)))\n",
    "print(stamps)"
   ]
  },
  {
   "cell_type": "code",
   "execution_count": null,
   "id": "694d71a9-82c0-4921-baf1-1abff6049a9d",
   "metadata": {},
   "outputs": [],
   "source": [
    "repeats = [x for x in stamps if stamps.count(x) > 1]\n",
    "print(set(repeats), (len(repeats)-len(set(repeats)))/len(set(repeats)))\n",
    "\n",
    "for x in stamps:\n",
    "    print(x+(stamps.count(x)-1)*\"*\")"
   ]
  },
  {
   "cell_type": "markdown",
   "id": "1bdfc9c7-28d1-48d7-80c2-b6dc6464dd19",
   "metadata": {},
   "source": [
    "So it seems like none of these are aligned. I'm switching to using a FIFO instead of RAM so that I can store a handful of values -- maybe it's getting overwritten by one of the next few before it has a chance to write to the packet, so a different value is ultimately saved.\n",
    "- On next iteration, just set the FIFO to max size -- we actually need more space than we have now, since the rate could go much higher, and if it's too small then the whole system will fail. There's a limit to this, where if we can handle that trigger rate, we can handle anything above it (because of the inhibit function), but there's not really any reason to try to keep this small, is there?"
   ]
  },
  {
   "cell_type": "code",
   "execution_count": null,
   "id": "ff111b2a-d5f2-4eb7-b902-2224fcf16feb",
   "metadata": {},
   "outputs": [],
   "source": [
    "for i,x in enumerate(stamps[stamps.index(shared[0]):]):\n",
    "    print(\"{0:016b}\".format(int(x,16) ^ int(csv[csv.index(shared[0]):][i],16)))"
   ]
  },
  {
   "cell_type": "code",
   "execution_count": null,
   "id": "eb442bb8-6d9f-447a-b9c1-9570413c58ae",
   "metadata": {},
   "outputs": [],
   "source": [
    "for i,x in enumerate(stamps[stamps.index(shared[0]):]):\n",
    "    print(x == csv[csv.index(shared[0]):][i])"
   ]
  },
  {
   "cell_type": "markdown",
   "id": "7eed7721-978c-4444-a125-609be082d351",
   "metadata": {},
   "source": [
    "Upside: fewer obvious red flag values like beef or 1337. I think the repetition is a red flag. Is there anything in the code that tells the DCRC to retrieve the same value again, maybe?"
   ]
  },
  {
   "cell_type": "raw",
   "id": "7bce7ac4-0955-44f4-a24b-8f9c8210aa27",
   "metadata": {},
   "source": [
    "#wtf man! okay what's it look like if I kill all these duplicates in a row.\n",
    "kill_dupes = stamps.copy()\n",
    "\n",
    "i = 0\n",
    "while i < len(kill_dupes):\n",
    "    try:\n",
    "        if kill_dupes[i] == kill_dupes[i+1]:\n",
    "            kill_dupes.pop(i)\n",
    "        else: \n",
    "            i += 1\n",
    "    except IndexError:\n",
    "        pass\n",
    "print(len(kill_dupes))"
   ]
  },
  {
   "cell_type": "code",
   "execution_count": null,
   "id": "ac65d960-f7be-47ec-b04f-5bda84ca0716",
   "metadata": {},
   "outputs": [],
   "source": [
    "print(kill_dupes)"
   ]
  },
  {
   "cell_type": "markdown",
   "id": "a6a55d9f-db04-40fa-bfb2-307c58b35555",
   "metadata": {},
   "source": [
    "# Algorithm\n",
    "from R76Analysis/example_scripts/time_difference..."
   ]
  },
  {
   "cell_type": "code",
   "execution_count": null,
   "id": "7f7fd3d4-9529-4a82-ac08-4b105698b825",
   "metadata": {},
   "outputs": [],
   "source": [
    "from itertools import zip_longest\n",
    "\n",
    "bold_text = \"\\033[1m\"\n",
    "reset_format = \"\\033[0m\"\n",
    "title = \"Merge and look for doubles:\"\n",
    "print(f\"{bold_text}{title}{reset_format}\")\n",
    "print(\"pros and cons: this method is very simple and sorts well, but it deletes a lot of good data too\")\n",
    "\n",
    "merged_list = [item for pair in zip_longest(stamps,csv, fillvalue=None) for item in pair if item is not None]\n",
    "\n",
    "for i,s in enumerate(merged_list):\n",
    "    print(i,s)\n",
    "\n",
    "trash=set()\n",
    "i = 0\n",
    "while i + 2 < len(merged_list):\n",
    "    if merged_list[i] == merged_list[i + 1]:\n",
    "        #print(\":)\")\n",
    "        i += 2\n",
    "    else:\n",
    "        trash.add(i)\n",
    "        trash.add(i + 1)\n",
    "        trash.add(i + 2)\n",
    "        i += 3\n",
    "            \n",
    "for i in sorted(trash, reverse=True):\n",
    "    del merged_list[i]\n",
    "\n",
    "print()\n",
    "print(\"New:\")\n",
    "for i,s in enumerate(merged_list):\n",
    "    print(i,s)"
   ]
  },
  {
   "cell_type": "markdown",
   "id": "044c2a6a-96b9-4793-bc73-3d3851fe8cac",
   "metadata": {},
   "source": [
    "todo:\n",
    "- let it search the rest of the list, in case there are extras to be dropped\n",
    "- tolerance +/- 1?"
   ]
  },
  {
   "cell_type": "code",
   "execution_count": null,
   "id": "519dcc98-3e09-4bc1-bf87-00515f91453f",
   "metadata": {},
   "outputs": [],
   "source": []
  }
 ],
 "metadata": {
  "kernelspec": {
   "display_name": "Python 3 (ipykernel)",
   "language": "python",
   "name": "python3"
  },
  "language_info": {
   "codemirror_mode": {
    "name": "ipython",
    "version": 3
   },
   "file_extension": ".py",
   "mimetype": "text/x-python",
   "name": "python",
   "nbconvert_exporter": "python",
   "pygments_lexer": "ipython3",
   "version": "3.8.10"
  }
 },
 "nbformat": 4,
 "nbformat_minor": 5
}
