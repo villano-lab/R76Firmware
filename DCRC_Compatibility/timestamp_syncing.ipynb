{
 "cells": [
  {
   "cell_type": "code",
   "execution_count": 1,
   "id": "f88eafa4-ded1-45d8-ae74-19153a90706b",
   "metadata": {},
   "outputs": [],
   "source": [
    "#Setup\n",
    "\n",
    "import numpy as np\n",
    "import pandas as pd\n",
    "import matplotlib.pyplot as plt\n",
    "import glob, pickle, joblib, os, uproot\n",
    "from tqdm import tqdm_notebook\n",
    "\n",
    "import rawio.IO as io\n",
    "from scdmsPyTools.Traces.Filtering import *\n",
    "from scdmsPyTools.Traces.Noise import *\n",
    "from scdmsPyTools.TES.Templates import *\n",
    "from scdmsPyTools.Traces.Stats import *\n",
    "#from scdmsPyTools.BatTools.IO import *\n",
    "rawdir = \"/data/midas/\"\n",
    "procdir = \"/data/midas/proc\""
   ]
  },
  {
   "cell_type": "code",
   "execution_count": 2,
   "id": "b8f511e4-af8f-4d32-8618-963d992a591a",
   "metadata": {},
   "outputs": [
    {
     "name": "stdout",
     "output_type": "stream",
     "text": [
      "The file is: /data/midas//48883/RUN48883_F0000.mid.gz\n",
      "RawDataReader::ParseSeriesAndDumpFromRawPath: WARNING could not parse filename for series and dump, not getting them from filename, OK if the info is in the data stream\n",
      "\n",
      "Opened raw midas file: /data/midas//48883/RUN48883_F0000.mid.gz\n",
      "RawDataReader: Extracted series from ODB: 72406211317\n",
      "The file is: /data/midas//48883/RUN48883_F0001.mid.gz\n",
      "RawDataReader::ParseSeriesAndDumpFromRawPath: WARNING could not parse filename for series and dump, not getting them from filename, OK if the info is in the data stream\n",
      "\n",
      "Opened raw midas file: /data/midas//48883/RUN48883_F0001.mid.gz\n",
      "RawDataReader: Extracted series from ODB: 72406211317\n"
     ]
    },
    {
     "name": "stderr",
     "output_type": "stream",
     "text": [
      "RawDataReader::ERROR Couldn't extract dump number from ODB settings. Setting to 0.\n",
      "RawDataReader::ERROR Couldn't extract dump number from ODB settings. Setting to 0.\n",
      "RawDataReader::ERROR Couldn't extract dump number from ODB settings. Setting to 0.\n",
      "RawDataReader::ERROR Couldn't extract dump number from ODB settings. Setting to 0.\n"
     ]
    },
    {
     "name": "stdout",
     "output_type": "stream",
     "text": [
      "The file is: /data/midas//48883/RUN48883_F0002.mid.gz\n",
      "RawDataReader::ParseSeriesAndDumpFromRawPath: WARNING could not parse filename for series and dump, not getting them from filename, OK if the info is in the data stream\n",
      "\n",
      "Opened raw midas file: /data/midas//48883/RUN48883_F0002.mid.gz\n",
      "RawDataReader: Extracted series from ODB: 72406211317\n",
      "The file is: /data/midas//48883/RUN48883_F0003.mid.gz\n",
      "RawDataReader::ParseSeriesAndDumpFromRawPath: WARNING could not parse filename for series and dump, not getting them from filename, OK if the info is in the data stream\n",
      "\n",
      "Opened raw midas file: /data/midas//48883/RUN48883_F0003.mid.gz\n",
      "RawDataReader: Extracted series from ODB: 72406211317\n",
      "The file is: /data/midas//48883/RUN48883_F0004.mid.gz\n",
      "RawDataReader::ParseSeriesAndDumpFromRawPath: WARNING could not parse filename for series and dump, not getting them from filename, OK if the info is in the data stream\n",
      "\n",
      "Opened raw midas file: /data/midas//48883/RUN48883_F0004.mid.gz\n",
      "RawDataReader: Extracted series from ODB: 72406211317\n"
     ]
    },
    {
     "name": "stderr",
     "output_type": "stream",
     "text": [
      "RawDataReader::ERROR Couldn't extract dump number from ODB settings. Setting to 0.\n",
      "RawDataReader::ERROR Couldn't extract dump number from ODB settings. Setting to 0.\n"
     ]
    },
    {
     "name": "stdout",
     "output_type": "stream",
     "text": [
      "The file is: /data/midas//48883/RUN48883_F0005.mid.gz\n",
      "RawDataReader::ParseSeriesAndDumpFromRawPath: WARNING could not parse filename for series and dump, not getting them from filename, OK if the info is in the data stream\n",
      "\n",
      "Opened raw midas file: /data/midas//48883/RUN48883_F0005.mid.gz\n",
      "RawDataReader: Extracted series from ODB: 72406211317\n",
      "The file is: /data/midas//48883/RUN48883_F0006.mid.gz\n",
      "RawDataReader::ParseSeriesAndDumpFromRawPath: WARNING could not parse filename for series and dump, not getting them from filename, OK if the info is in the data stream\n",
      "\n",
      "Opened raw midas file: /data/midas//48883/RUN48883_F0006.mid.gz\n",
      "RawDataReader: Extracted series from ODB: 72406211317\n",
      "The file is: /data/midas//48883/RUN48883_F0007.mid.gz\n",
      "RawDataReader::ParseSeriesAndDumpFromRawPath: WARNING could not parse filename for series and dump, not getting them from filename, OK if the info is in the data stream\n",
      "\n",
      "Opened raw midas file: /data/midas//48883/RUN48883_F0007.mid.gz\n",
      "RawDataReader: Extracted series from ODB: 72406211317\n"
     ]
    },
    {
     "name": "stderr",
     "output_type": "stream",
     "text": [
      "RawDataReader::ERROR Couldn't extract dump number from ODB settings. Setting to 0.\n",
      "RawDataReader::ERROR Couldn't extract dump number from ODB settings. Setting to 0.\n"
     ]
    }
   ],
   "source": [
    "#Select a file.\n",
    "series='48883'\n",
    "csv = [x[0] for x in pd.read_csv('~/git/R76Firmware/DCRC_Compatibility/manual_48873.txt',dtype=str,comment='#').values.tolist()]\n",
    "#txt = [x[0] for x in pd.read_csv('~/git/R76Firmware/DCRC_Compatibility/towertest.txt',dtype=str).values.tolist()]\n",
    "\n",
    "#More setup, dependent on series number.\n",
    "procseries=series\n",
    "filepath = rawdir+series\n",
    "\n",
    "events = io.getRawEvents(rawdir,series)\n",
    "try:\n",
    "    stamps = [f'{QI[0]:04X}' for QI in events['Z6']['QI'][events['Z6']['PA'].keys()[0][0]]]\n",
    "except KeyError:\n",
    "    print(events.keys(),len(events))\n",
    "\n",
    "del events"
   ]
  },
  {
   "cell_type": "markdown",
   "id": "3fe0f37b-dc5c-45ba-a9f6-c83c27550160",
   "metadata": {},
   "source": [
    "print(csv['timestamp'],[f'{i:x}' for i in stamps])\n",
    "print(type(csv['timestamp'][0]),type(f'{100:x}'))\n",
    "print('1337' in csv['timestamp'].values)"
   ]
  },
  {
   "cell_type": "raw",
   "id": "0019389a-69f0-4d34-936d-5ed9a3850fdd",
   "metadata": {},
   "source": [
    "#for x in stamps: \n",
    "#    if x != 4919: print(hex(x))\n",
    "print(set([hex(x) for x in stamps if x!= 4919]))\n",
    "print(len([x for x in stamps if x != 4919])/len(stamps))\n",
    "\n",
    "print(csv['timestamp'][csv['timestamp'] != 1337])\n",
    "print(len(csv) - len(stamps))"
   ]
  },
  {
   "cell_type": "code",
   "execution_count": 3,
   "id": "6a096a0f-26b8-4e52-955f-bb4457c562a4",
   "metadata": {},
   "outputs": [
    {
     "name": "stdout",
     "output_type": "stream",
     "text": [
      "['8001', '0000', '0001', '0002', '0003', '0004', '0005', '0006', '0007', '0008', '0009', '000A', '000B', '000C', '000D', '000E', '000F', '0010', '0011', '0012', '0013', '0014', '0015', '0016', '0017', '0018', '0019', '001A', '001B', '001C', '001D', '001E', '001F', '0020', '0021', '0022', '0023', '0024', '0025', '0026', '0027', '0028', '0029', '002A', '002B', '002C', '002D', '0030', '0031', '0032', '0033', '0034', '0035', '0036', '0037', '003A', '003D', '003E', '003F', '0040', '0041', '0042', '0043', '0046', '0049', '004C', '004F', '0052', '0054', '0055', '0056', '0057', '0058', '0059', '005A', '005B', '005C', '005D', '005E', '005F', '0061', '0062', '0063', '0065', '0066', '0067', '0068', '0069', '006A', '006B', '006C', '006D', '006E', '006F', '0070', '0071', '0072', '0073', '0074', '0075', '0076', '0077', '0078', '0079', '007A', '007B', '007C', '007D', '007E', '007F', '0080', '0081', '0082', '0083', '0084', '0085', '0086', '0087', '0088', '0089', '008A', '008B', '008C', '008D', '008E', '008F', '0090', '0091', '0092', '0093', '0094', '0095', '0096', '0097', '0098', '0099', '009A', '009B', '009C', '009D', '009E', '009F', '00A0', '00A1', '00A2', '00A3', '00A4', '00A5', '00A8', '00AB', '00AE', '00B1', '00B4', '00B7', '00BA', '00BC', '00BD', '00BE', '00BF', '00C0', '00C1', '00C2', '00C3', '00C4', '00C5', '00C6', '00C7', '00C8', '00C9', '00CA', '00CB', '00CC', '00CD', '00CE', '00CF', '00D0', '00D1', '00D2', '00D3', '00D4', '00D5', '00D6', '00D7', '00D8', '00D9', '00DA', '00DB', '00DC', '00DD', '00DE', '00DF', '00E0', '00E1', '00E2', '00E4', '00E6', '00E7', '00E8', '00E9', '00EA', '00ED', '00F0', '00F1', '00F2', '00F3', '00F4', '00F5', '00F6', '00F7', '00F8', '00F9', '00FA', '00FB', '00FC', '00FD', '00FE', '00FF', '0100', '0101', '0102', '0103', '0104', '0105', '0106', '0107', '0108', '0109', '010A', '010B', '010C', '010D', '010E', '010F', '0110', '0111', '0112', '0113', '0114', '0115', '0116', '0117', '0118', '0119', '011A', '011B', '011C', '011D', '011E', '011F', '0120', '0121', '0122', '0123', '0124', '0125', '0126', '0127', '0128', '0129', '012A', '012B', '012C', '012D', '012E', '012F', '0130', '0131', '0132', '0133', '0134', '0135', '0136', '0137', '0138', '0139', '013B', '013C', '013D', '013E', '013F', '0140', '0142', '0145', '0148', '0149', '014B', '014C', '014F', '0152', '0155', '0157', '015A', '015D', '0160', '0163', '0165', '0168', '0169', '016A', '016B', '016C', '016D', '016E', '016F', '0170', '0171', '0172', '0173', '0174', '0175', '0176', '0177', '0178', '0179', '017A', '017B', '017C', '017D', '017E', '017F', '0180'] \n",
      "====\n",
      " ['3085', 'E031', '3779', '3459', '074A', '2A8B', 'D9DE', '761B', '45C5', '9AD2', '3915', '1AF9', '6FC4', '3906', '1331', '1F93', '7276', 'B4B7', 'AB0B', '4975', '681F', 'CF16', 'D00D', '8429', '415B', '72AA', 'E0E9', '58C7', '52E8', '0B0E', 'EC4F', 'FCD2', '0309', 'EF34', 'ED25', '9579', '1A43', '2CED', '5844', 'BCD7', 'D677', 'F6CD', '8055', '1640', '0E9A', '5E76', 'E526', '2CDE', '46E8'] 321 49\n"
     ]
    }
   ],
   "source": [
    "print(stamps,\"\\n====\\n\",csv,len(stamps),len(csv))"
   ]
  },
  {
   "cell_type": "code",
   "execution_count": 8,
   "id": "4e0431f8-3d29-4527-ab7a-066a23200d01",
   "metadata": {},
   "outputs": [
    {
     "name": "stdout",
     "output_type": "stream",
     "text": [
      "0x141 0.8337662337662337\n"
     ]
    }
   ],
   "source": [
    "print(hex(len(stamps)),len(stamps)/385)"
   ]
  },
  {
   "cell_type": "raw",
   "id": "3771dee9-b7ba-4728-847d-85192b7d35f1",
   "metadata": {},
   "source": [
    "print(set([x for x in csv if x not in txt]))\n",
    "print(\"\\n==================\\n\")\n",
    "print(set([x for x in txt if x not in csv]))"
   ]
  },
  {
   "cell_type": "raw",
   "id": "590f824b-c5b9-4fa6-919f-00e57ca6d5da",
   "metadata": {},
   "source": [
    "txt_exclusives = [x for x in txt if x not in csv];\n",
    "csv_exclusives = [x for x in csv if x not in txt]; shared = [x for x in csv if x in txt]\n",
    "\n",
    "print(len(csv),len(txt),len(csv_exclusives),len(txt_exclusives))\n",
    "print(txt[txt.index(shared[0]):txt.index(shared[-1])+1])\n",
    "print(csv[csv.index(shared[0]):csv.index(shared[-1])+1])\n",
    "print(len(txt[txt.index(shared[0]):txt.index(shared[-1])]) - len(csv[csv.index(shared[0]):csv.index(shared[-1])]))"
   ]
  },
  {
   "cell_type": "code",
   "execution_count": 5,
   "id": "8bc596ff-7d96-4ed6-97dd-f72f6eb762b3",
   "metadata": {},
   "outputs": [
    {
     "name": "stdout",
     "output_type": "stream",
     "text": [
      "[]\n"
     ]
    },
    {
     "ename": "IndexError",
     "evalue": "list index out of range",
     "output_type": "error",
     "traceback": [
      "\u001b[0;31m---------------------------------------------------------------------------\u001b[0m",
      "\u001b[0;31mIndexError\u001b[0m                                Traceback (most recent call last)",
      "Input \u001b[0;32mIn [5]\u001b[0m, in \u001b[0;36m<cell line: 3>\u001b[0;34m()\u001b[0m\n\u001b[1;32m      1\u001b[0m shared \u001b[38;5;241m=\u001b[39m [x \u001b[38;5;28;01mfor\u001b[39;00m x \u001b[38;5;129;01min\u001b[39;00m csv \u001b[38;5;28;01mif\u001b[39;00m x \u001b[38;5;129;01min\u001b[39;00m stamps]\n\u001b[1;32m      2\u001b[0m \u001b[38;5;28mprint\u001b[39m(shared)\n\u001b[0;32m----> 3\u001b[0m csvshared \u001b[38;5;241m=\u001b[39m csv[csv\u001b[38;5;241m.\u001b[39mindex(\u001b[43mshared\u001b[49m\u001b[43m[\u001b[49m\u001b[38;5;241;43m0\u001b[39;49m\u001b[43m]\u001b[49m):]\u001b[38;5;66;03m#csv.index(shared[-1])+1]\u001b[39;00m\n\u001b[1;32m      4\u001b[0m stampshared \u001b[38;5;241m=\u001b[39m stamps[stamps\u001b[38;5;241m.\u001b[39mindex(shared[\u001b[38;5;241m0\u001b[39m]):]\n",
      "\u001b[0;31mIndexError\u001b[0m: list index out of range"
     ]
    }
   ],
   "source": [
    "shared = [x for x in csv if x in stamps]\n",
    "print(shared)\n",
    "csvshared = csv[csv.index(shared[0]):]#csv.index(shared[-1])+1]\n",
    "stampshared = stamps[stamps.index(shared[0]):]#stamps.index(shared[-1])+1]\n",
    "#stampshared = [x for x in stampshared if x != '014A']"
   ]
  },
  {
   "cell_type": "code",
   "execution_count": null,
   "id": "35704114-3a86-482c-afea-367e0566f1d8",
   "metadata": {},
   "outputs": [],
   "source": [
    "print(csvshared,stampshared)"
   ]
  },
  {
   "cell_type": "raw",
   "id": "2d48330a-5054-43f7-95cf-313e8bc82625",
   "metadata": {},
   "source": [
    "#Usually this doesn't run due to indexing\n",
    "maxdiff = 0\n",
    "for i,x in enumerate(csvshared):\n",
    "    if abs(int(stampshared[i],16) - int(x,16)) > maxdiff:\n",
    "        maxdiff = abs(int(stampshared[i],16) - int(x,16))\n",
    "print(maxdiff)"
   ]
  },
  {
   "cell_type": "code",
   "execution_count": null,
   "id": "44575d85-7835-4803-b390-1ee7f3575338",
   "metadata": {},
   "outputs": [],
   "source": [
    "for x in list(zip(csvshared,stampshared)): \n",
    "    if(x[0][:2] == x[1][:2]): print(x,\"*\")\n",
    "    else: print(x)\n",
    "print(shared)"
   ]
  },
  {
   "cell_type": "code",
   "execution_count": null,
   "id": "1fa6cdf9-a0b8-4068-8ab9-9d997ef5f16f",
   "metadata": {},
   "outputs": [],
   "source": [
    "print(len(stamps)-len(set(stamps)))\n",
    "print(stamps)"
   ]
  },
  {
   "cell_type": "code",
   "execution_count": 6,
   "id": "694d71a9-82c0-4921-baf1-1abff6049a9d",
   "metadata": {},
   "outputs": [
    {
     "ename": "ZeroDivisionError",
     "evalue": "division by zero",
     "output_type": "error",
     "traceback": [
      "\u001b[0;31m---------------------------------------------------------------------------\u001b[0m",
      "\u001b[0;31mZeroDivisionError\u001b[0m                         Traceback (most recent call last)",
      "Input \u001b[0;32mIn [6]\u001b[0m, in \u001b[0;36m<cell line: 2>\u001b[0;34m()\u001b[0m\n\u001b[1;32m      1\u001b[0m repeats \u001b[38;5;241m=\u001b[39m [x \u001b[38;5;28;01mfor\u001b[39;00m x \u001b[38;5;129;01min\u001b[39;00m stamps \u001b[38;5;28;01mif\u001b[39;00m stamps\u001b[38;5;241m.\u001b[39mcount(x) \u001b[38;5;241m>\u001b[39m \u001b[38;5;241m1\u001b[39m]\n\u001b[0;32m----> 2\u001b[0m \u001b[38;5;28mprint\u001b[39m(\u001b[38;5;28mset\u001b[39m(repeats), \u001b[43m(\u001b[49m\u001b[38;5;28;43mlen\u001b[39;49m\u001b[43m(\u001b[49m\u001b[43mrepeats\u001b[49m\u001b[43m)\u001b[49m\u001b[38;5;241;43m-\u001b[39;49m\u001b[38;5;28;43mlen\u001b[39;49m\u001b[43m(\u001b[49m\u001b[38;5;28;43mset\u001b[39;49m\u001b[43m(\u001b[49m\u001b[43mrepeats\u001b[49m\u001b[43m)\u001b[49m\u001b[43m)\u001b[49m\u001b[43m)\u001b[49m\u001b[38;5;241;43m/\u001b[39;49m\u001b[38;5;28;43mlen\u001b[39;49m\u001b[43m(\u001b[49m\u001b[38;5;28;43mset\u001b[39;49m\u001b[43m(\u001b[49m\u001b[43mrepeats\u001b[49m\u001b[43m)\u001b[49m\u001b[43m)\u001b[49m)\n\u001b[1;32m      4\u001b[0m \u001b[38;5;28;01mfor\u001b[39;00m x \u001b[38;5;129;01min\u001b[39;00m stamps:\n\u001b[1;32m      5\u001b[0m     \u001b[38;5;28mprint\u001b[39m(x\u001b[38;5;241m+\u001b[39m(stamps\u001b[38;5;241m.\u001b[39mcount(x)\u001b[38;5;241m-\u001b[39m\u001b[38;5;241m1\u001b[39m)\u001b[38;5;241m*\u001b[39m\u001b[38;5;124m\"\u001b[39m\u001b[38;5;124m*\u001b[39m\u001b[38;5;124m\"\u001b[39m)\n",
      "\u001b[0;31mZeroDivisionError\u001b[0m: division by zero"
     ]
    }
   ],
   "source": [
    "repeats = [x for x in stamps if stamps.count(x) > 1]\n",
    "print(set(repeats), (len(repeats)-len(set(repeats)))/len(set(repeats)))\n",
    "\n",
    "for x in stamps:\n",
    "    print(x+(stamps.count(x)-1)*\"*\")"
   ]
  },
  {
   "cell_type": "markdown",
   "id": "1bdfc9c7-28d1-48d7-80c2-b6dc6464dd19",
   "metadata": {},
   "source": [
    "So it seems like none of these are aligned. I'm switching to using a FIFO instead of RAM so that I can store a handful of values -- maybe it's getting overwritten by one of the next few before it has a chance to write to the packet, so a different value is ultimately saved.\n",
    "- On next iteration, just set the FIFO to max size -- we actually need more space than we have now, since the rate could go much higher, and if it's too small then the whole system will fail. There's a limit to this, where if we can handle that trigger rate, we can handle anything above it (because of the inhibit function), but there's not really any reason to try to keep this small, is there?"
   ]
  },
  {
   "cell_type": "code",
   "execution_count": null,
   "id": "ff111b2a-d5f2-4eb7-b902-2224fcf16feb",
   "metadata": {},
   "outputs": [],
   "source": [
    "for i,x in enumerate(stamps[stamps.index(shared[0]):]):\n",
    "    print(\"{0:016b}\".format(int(x,16) ^ int(csv[csv.index(shared[0]):][i],16)))"
   ]
  },
  {
   "cell_type": "code",
   "execution_count": null,
   "id": "eb442bb8-6d9f-447a-b9c1-9570413c58ae",
   "metadata": {},
   "outputs": [],
   "source": [
    "for i,x in enumerate(stamps[stamps.index(shared[0]):]):\n",
    "    print(x == csv[csv.index(shared[0]):][i])"
   ]
  },
  {
   "cell_type": "markdown",
   "id": "7eed7721-978c-4444-a125-609be082d351",
   "metadata": {},
   "source": [
    "Upside: fewer obvious red flag values like beef or 1337. I think the repetition is a red flag. Is there anything in the code that tells the DCRC to retrieve the same value again, maybe?"
   ]
  },
  {
   "cell_type": "raw",
   "id": "7bce7ac4-0955-44f4-a24b-8f9c8210aa27",
   "metadata": {},
   "source": [
    "#wtf man! okay what's it look like if I kill all these duplicates in a row.\n",
    "kill_dupes = stamps.copy()\n",
    "\n",
    "i = 0\n",
    "while i < len(kill_dupes):\n",
    "    try:\n",
    "        if kill_dupes[i] == kill_dupes[i+1]:\n",
    "            kill_dupes.pop(i)\n",
    "        else: \n",
    "            i += 1\n",
    "    except IndexError:\n",
    "        pass\n",
    "print(len(kill_dupes))"
   ]
  },
  {
   "cell_type": "code",
   "execution_count": null,
   "id": "ac65d960-f7be-47ec-b04f-5bda84ca0716",
   "metadata": {},
   "outputs": [],
   "source": [
    "print(kill_dupes)"
   ]
  },
  {
   "cell_type": "markdown",
   "id": "a6a55d9f-db04-40fa-bfb2-307c58b35555",
   "metadata": {},
   "source": [
    "# Algorithm\n",
    "from R76Analysis/example_scripts/time_difference..."
   ]
  },
  {
   "cell_type": "code",
   "execution_count": null,
   "id": "7f7fd3d4-9529-4a82-ac08-4b105698b825",
   "metadata": {},
   "outputs": [],
   "source": [
    "from itertools import zip_longest\n",
    "\n",
    "bold_text = \"\\033[1m\"\n",
    "reset_format = \"\\033[0m\"\n",
    "title = \"Merge and look for doubles:\"\n",
    "print(f\"{bold_text}{title}{reset_format}\")\n",
    "print(\"pros and cons: this method is very simple and sorts well, but it deletes a lot of good data too\")\n",
    "\n",
    "merged_list = [item for pair in zip_longest(stamps,csv, fillvalue=None) for item in pair if item is not None]\n",
    "\n",
    "for i,s in enumerate(merged_list):\n",
    "    print(i,s)\n",
    "\n",
    "trash=set()\n",
    "i = 0\n",
    "while i + 2 < len(merged_list):\n",
    "    if merged_list[i] == merged_list[i + 1]:\n",
    "        #print(\":)\")\n",
    "        i += 2\n",
    "    else:\n",
    "        trash.add(i)\n",
    "        trash.add(i + 1)\n",
    "        trash.add(i + 2)\n",
    "        i += 3\n",
    "            \n",
    "for i in sorted(trash, reverse=True):\n",
    "    del merged_list[i]\n",
    "\n",
    "print()\n",
    "print(\"New:\")\n",
    "for i,s in enumerate(merged_list):\n",
    "    print(i,s)"
   ]
  },
  {
   "cell_type": "markdown",
   "id": "044c2a6a-96b9-4793-bc73-3d3851fe8cac",
   "metadata": {},
   "source": [
    "todo:\n",
    "- let it search the rest of the list, in case there are extras to be dropped\n",
    "- tolerance +/- 1?"
   ]
  },
  {
   "cell_type": "code",
   "execution_count": null,
   "id": "519dcc98-3e09-4bc1-bf87-00515f91453f",
   "metadata": {},
   "outputs": [],
   "source": []
  }
 ],
 "metadata": {
  "kernelspec": {
   "display_name": "Python 3 (ipykernel)",
   "language": "python",
   "name": "python3"
  },
  "language_info": {
   "codemirror_mode": {
    "name": "ipython",
    "version": 3
   },
   "file_extension": ".py",
   "mimetype": "text/x-python",
   "name": "python",
   "nbconvert_exporter": "python",
   "pygments_lexer": "ipython3",
   "version": "3.8.10"
  }
 },
 "nbformat": 4,
 "nbformat_minor": 5
}
